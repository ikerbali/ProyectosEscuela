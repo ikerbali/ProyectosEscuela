{
 "cells": [
  {
   "cell_type": "markdown",
   "metadata": {},
   "source": [
    "# Tarea 1.1 Regresiones\n",
    "## Iker Bali Elizalde A01656437"
   ]
  },
  {
   "cell_type": "code",
   "execution_count": 53,
   "metadata": {},
   "outputs": [
    {
     "data": {
      "text/html": [
       "<div>\n",
       "<style scoped>\n",
       "    .dataframe tbody tr th:only-of-type {\n",
       "        vertical-align: middle;\n",
       "    }\n",
       "\n",
       "    .dataframe tbody tr th {\n",
       "        vertical-align: top;\n",
       "    }\n",
       "\n",
       "    .dataframe thead th {\n",
       "        text-align: right;\n",
       "    }\n",
       "</style>\n",
       "<table border=\"1\" class=\"dataframe\">\n",
       "  <thead>\n",
       "    <tr style=\"text-align: right;\">\n",
       "      <th></th>\n",
       "      <th>Precios</th>\n",
       "      <th>Gast_pub</th>\n",
       "      <th>Ventas</th>\n",
       "    </tr>\n",
       "  </thead>\n",
       "  <tbody>\n",
       "    <tr>\n",
       "      <th>0</th>\n",
       "      <td>91</td>\n",
       "      <td>3.9</td>\n",
       "      <td>110</td>\n",
       "    </tr>\n",
       "    <tr>\n",
       "      <th>1</th>\n",
       "      <td>82</td>\n",
       "      <td>4.9</td>\n",
       "      <td>170</td>\n",
       "    </tr>\n",
       "    <tr>\n",
       "      <th>2</th>\n",
       "      <td>71</td>\n",
       "      <td>7.6</td>\n",
       "      <td>260</td>\n",
       "    </tr>\n",
       "    <tr>\n",
       "      <th>3</th>\n",
       "      <td>78</td>\n",
       "      <td>6.8</td>\n",
       "      <td>240</td>\n",
       "    </tr>\n",
       "    <tr>\n",
       "      <th>4</th>\n",
       "      <td>82</td>\n",
       "      <td>5.9</td>\n",
       "      <td>230</td>\n",
       "    </tr>\n",
       "    <tr>\n",
       "      <th>5</th>\n",
       "      <td>73</td>\n",
       "      <td>9.1</td>\n",
       "      <td>290</td>\n",
       "    </tr>\n",
       "    <tr>\n",
       "      <th>6</th>\n",
       "      <td>96</td>\n",
       "      <td>3.4</td>\n",
       "      <td>150</td>\n",
       "    </tr>\n",
       "    <tr>\n",
       "      <th>7</th>\n",
       "      <td>76</td>\n",
       "      <td>11.6</td>\n",
       "      <td>320</td>\n",
       "    </tr>\n",
       "    <tr>\n",
       "      <th>8</th>\n",
       "      <td>69</td>\n",
       "      <td>14.1</td>\n",
       "      <td>330</td>\n",
       "    </tr>\n",
       "    <tr>\n",
       "      <th>9</th>\n",
       "      <td>66</td>\n",
       "      <td>14.9</td>\n",
       "      <td>310</td>\n",
       "    </tr>\n",
       "    <tr>\n",
       "      <th>10</th>\n",
       "      <td>74</td>\n",
       "      <td>10.5</td>\n",
       "      <td>320</td>\n",
       "    </tr>\n",
       "    <tr>\n",
       "      <th>11</th>\n",
       "      <td>67</td>\n",
       "      <td>9.9</td>\n",
       "      <td>300</td>\n",
       "    </tr>\n",
       "    <tr>\n",
       "      <th>12</th>\n",
       "      <td>59</td>\n",
       "      <td>17.1</td>\n",
       "      <td>370</td>\n",
       "    </tr>\n",
       "    <tr>\n",
       "      <th>13</th>\n",
       "      <td>72</td>\n",
       "      <td>12.4</td>\n",
       "      <td>330</td>\n",
       "    </tr>\n",
       "  </tbody>\n",
       "</table>\n",
       "</div>"
      ],
      "text/plain": [
       "    Precios  Gast_pub  Ventas\n",
       "0        91       3.9     110\n",
       "1        82       4.9     170\n",
       "2        71       7.6     260\n",
       "3        78       6.8     240\n",
       "4        82       5.9     230\n",
       "5        73       9.1     290\n",
       "6        96       3.4     150\n",
       "7        76      11.6     320\n",
       "8        69      14.1     330\n",
       "9        66      14.9     310\n",
       "10       74      10.5     320\n",
       "11       67       9.9     300\n",
       "12       59      17.1     370\n",
       "13       72      12.4     330"
      ]
     },
     "execution_count": 53,
     "metadata": {},
     "output_type": "execute_result"
    }
   ],
   "source": [
    "# importo librerías\n",
    "\n",
    "import pandas as pd \n",
    "import matplotlib.pyplot as plt \n",
    "import numpy as np\n",
    "\n",
    "# función para calcular los coeficientes de una regresión lineal\n",
    "\n",
    "def linealregr(x, y):\n",
    "    xprom = np.mean(x)\n",
    "    yprom = np.mean(y)\n",
    "    \n",
    "    m = np.sum((x - xprom) * (y - yprom)) / np.sum((x - xprom) ** 2)\n",
    "    b=yprom-m*xprom\n",
    "    return m,b\n",
    "\n",
    "def cofcorr(x, y):\n",
    "    mcov = np.cov(x, y)\n",
    "    \n",
    "    if mcov[0, 0] == 0 or mcov[1, 1] == 0:\n",
    "        return None  # Manejar casos con varianza cero\n",
    "    \n",
    "    r = mcov[0, 1] / np.sqrt(mcov[0, 0] * mcov[1, 1])\n",
    "    return r\n",
    "\n",
    "datos=pd.read_csv(\"Rer_multiple1 - Sheet1.csv\")\n",
    "datos"
   ]
  },
  {
   "cell_type": "markdown",
   "metadata": {},
   "source": [
    "# 1. Gráfica"
   ]
  },
  {
   "cell_type": "code",
   "execution_count": 54,
   "metadata": {},
   "outputs": [
    {
     "data": {
      "image/png": "[encoded data removed]",
      "text/plain": [
       "<Figure size 640x480 with 1 Axes>"
      ]
     },
     "metadata": {},
     "output_type": "display_data"
    }
   ],
   "source": [
    "x=datos[\"Precios\"]\n",
    "y=datos[\"Ventas\"]\n",
    "\n",
    "m,b=linealregr(x,y)\n",
    "yest=m*x+b\n",
    "plt.figure()\n",
    "plt.xlabel(\"Precios\")\n",
    "plt.ylabel(\"Ventas\")\n",
    "plt.plot(x,yest,color=\"blue\",label=(\"y = \"+ str(round(m,3))+ \"x + \"+ str(round(b,3))))\n",
    "plt.scatter(x,y,color=\"red\",label=\"puntos\")\n",
    "plt.legend()\n",
    "plt.show()\n"
   ]
  },
  {
   "cell_type": "markdown",
   "metadata": {},
   "source": [
    "# 2. Ecuación de Regresión\n",
    "\n",
    "## $ Ventas= -6.986270537924825 * Precio + 793.3929777177583 $"
   ]
  },
  {
   "cell_type": "markdown",
   "metadata": {},
   "source": [
    "# 3. Coeficiente de Determinación"
   ]
  },
  {
   "cell_type": "code",
   "execution_count": 66,
   "metadata": {},
   "outputs": [
    {
     "name": "stdout",
     "output_type": "stream",
     "text": [
      "R^2 = 0.8940023288557931\n",
      "R^2 = 89.40023288557931 %\n"
     ]
    }
   ],
   "source": [
    "R2=-cofcorr(x,y)\n",
    "print(\"R^2 =\",R2)\n",
    "print(\"R^2 =\",R2*100,\"%\")"
   ]
  },
  {
   "cell_type": "markdown",
   "metadata": {},
   "source": [
    "# Interpretación: El 89% es debido a que el precio llega a variar y esto afecta directamente en el coeficiente"
   ]
  },
  {
   "cell_type": "markdown",
   "metadata": {},
   "source": [
    "# 4. Si el precio es de $72 ¿Cuales son las ventas esperadas según ese modelo de regresión?\n",
    "\n",
    "## $ Ventas = -6.9863 * (72) + 793.39=  290.38 $"
   ]
  }
 ],
 "metadata": {
  "kernelspec": {
   "display_name": "Python 3",
   "language": "python",
   "name": "python3"
  },
  "language_info": {
   "codemirror_mode": {
    "name": "ipython",
    "version": 3
   },
   "file_extension": ".py",
   "mimetype": "text/x-python",
   "name": "python",
   "nbconvert_exporter": "python",
   "pygments_lexer": "ipython3",
   "version": "3.10.7"
  },
  "orig_nbformat": 4
 },
 "nbformat": 4,
 "nbformat_minor": 2
}
